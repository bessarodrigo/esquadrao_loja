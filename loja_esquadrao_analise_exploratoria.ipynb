{
 "cells": [
  {
   "cell_type": "markdown",
   "id": "02ace338",
   "metadata": {},
   "source": [
    "## Importação das bibliotecas"
   ]
  },
  {
   "cell_type": "code",
   "execution_count": 1,
   "id": "428ffd67",
   "metadata": {},
   "outputs": [],
   "source": [
    "import pandas as pd\n",
    "import locale\n",
    "import re"
   ]
  },
  {
   "cell_type": "markdown",
   "id": "d46a1302",
   "metadata": {},
   "source": [
    "## Visualização inicial do DataFrame"
   ]
  },
  {
   "cell_type": "code",
   "execution_count": 35,
   "id": "3a9ced15",
   "metadata": {},
   "outputs": [
    {
     "name": "stdout",
     "output_type": "stream",
     "text": [
      "                  Data  Valor     Status Operador Vendedor\n",
      "0  21/12/2018 08:28:57  10.35  CANCELADA   Amanda     Neto\n",
      "1  21/12/2018 09:16:04  10.35  CANCELADA     João   Victor\n",
      "2  21/12/2018 09:16:02  10.35  CANCELADA     Taís    Lucas\n",
      "3  21/12/2018 09:19:16   9.31  CANCELADA  Marcelo  Regiane\n",
      "4  21/12/2018 09:23:14 224.85    REGULAR   Thales   Rebeca\n",
      "Data         object\n",
      "Valor       float64\n",
      "Status       object\n",
      "Operador     object\n",
      "Vendedor     object\n",
      "dtype: object\n"
     ]
    }
   ],
   "source": [
    "# Caminho do arquivo Excel\n",
    "excel_file = \"dados\\Export_Vendas_Sintetico.xlsx\"\n",
    "\n",
    "# Leitura do arquivo Excel e seleção das colunas desejadas\n",
    "df = pd.read_excel(excel_file, sheet_name='Planilha1', usecols=['Data', 'Valor', 'Status', 'Operador', 'Vendedor'])\n",
    "\n",
    "# Exibir as primeiras linhas do DataFrame\n",
    "print(df.head())\n",
    "\n",
    "# Exibir os tipos de dados ajustados\n",
    "print(df.dtypes)"
   ]
  },
  {
   "cell_type": "markdown",
   "id": "7794b440",
   "metadata": {},
   "source": [
    "## Ajuste dos dados"
   ]
  },
  {
   "cell_type": "code",
   "execution_count": 23,
   "id": "3bd6d49b",
   "metadata": {},
   "outputs": [
    {
     "name": "stdout",
     "output_type": "stream",
     "text": [
      "                 data    valor     status operador vendedor\n",
      "0 2018-12-21 08:28:57   10.350  CANCELADA   Amanda     Neto\n",
      "1 2018-12-21 09:16:04   10.350  CANCELADA     João   Victor\n",
      "2 2018-12-21 09:16:02   10.350  CANCELADA     Taís    Lucas\n",
      "3 2018-12-21 09:19:16    9.315  CANCELADA  Marcelo  Regiane\n",
      "4 2018-12-21 09:23:14  224.850    REGULAR   Thales   Rebeca\n",
      "data        datetime64[ns]\n",
      "valor              float64\n",
      "status              object\n",
      "operador            object\n",
      "vendedor            object\n",
      "dtype: object\n"
     ]
    }
   ],
   "source": [
    "# Renomear as colunas\n",
    "df.rename(columns={\n",
    "    'Data': 'data',\n",
    "    'Valor': 'valor',\n",
    "    'Status': 'status',\n",
    "    'Operador': 'operador',\n",
    "    'Vendedor': 'vendedor'\n",
    "}, inplace=True)\n",
    "\n",
    "\n",
    "\n",
    "\n",
    "# Definir o locale para Português do Brasil (pt_BR)\n",
    "locale.setlocale(locale.LC_NUMERIC, 'pt_BR.UTF-8')\n",
    "\n",
    "# Função para converter valores\n",
    "def convert_to_float(value):\n",
    "    if isinstance(value, str):\n",
    "        value = value.replace('.', '').replace(',', '.')\n",
    "    return float(value)\n",
    "\n",
    "# Aplicar a função de conversão na coluna 'valor' para float aplicando\n",
    "df['valor'] = df['valor'].apply(convert_to_float)\n",
    "\n",
    "# Converter a coluna 'data' para Timestamp\n",
    "try:\n",
    "    df['data'] = pd.to_datetime(df['data'])\n",
    "except ValueError as e:\n",
    "    print(f\"Não foi possível converter a coluna 'data' para Timestamp: {e}\")\n",
    "    \n",
    "# Truncar a coluna 'status' para 10 caracteres\n",
    "df['status'] = df['status'].apply(lambda x: x[:10])\n",
    "\n",
    "# Exibir as primeiras linhas do DataFrame após a conversão\n",
    "print(df.head())\n",
    "\n",
    "# Exibir os tipos de dados ajustados\n",
    "print(df.dtypes)"
   ]
  },
  {
   "cell_type": "markdown",
   "id": "8e6f5ffd",
   "metadata": {},
   "source": [
    "## Checagem dos Dados"
   ]
  },
  {
   "cell_type": "code",
   "execution_count": 25,
   "id": "3fce4839",
   "metadata": {},
   "outputs": [
    {
     "data": {
      "text/html": [
       "<div>\n",
       "<style scoped>\n",
       "    .dataframe tbody tr th:only-of-type {\n",
       "        vertical-align: middle;\n",
       "    }\n",
       "\n",
       "    .dataframe tbody tr th {\n",
       "        vertical-align: top;\n",
       "    }\n",
       "\n",
       "    .dataframe thead th {\n",
       "        text-align: right;\n",
       "    }\n",
       "</style>\n",
       "<table border=\"1\" class=\"dataframe\">\n",
       "  <thead>\n",
       "    <tr style=\"text-align: right;\">\n",
       "      <th></th>\n",
       "      <th>data</th>\n",
       "      <th>valor</th>\n",
       "      <th>status</th>\n",
       "      <th>operador</th>\n",
       "      <th>vendedor</th>\n",
       "    </tr>\n",
       "  </thead>\n",
       "  <tbody>\n",
       "    <tr>\n",
       "      <th>0</th>\n",
       "      <td>2018-12-21 08:28:57</td>\n",
       "      <td>10.35</td>\n",
       "      <td>CANCELADA</td>\n",
       "      <td>Amanda</td>\n",
       "      <td>Neto</td>\n",
       "    </tr>\n",
       "    <tr>\n",
       "      <th>1</th>\n",
       "      <td>2018-12-21 09:16:04</td>\n",
       "      <td>10.35</td>\n",
       "      <td>CANCELADA</td>\n",
       "      <td>João</td>\n",
       "      <td>Victor</td>\n",
       "    </tr>\n",
       "    <tr>\n",
       "      <th>2</th>\n",
       "      <td>2018-12-21 09:16:02</td>\n",
       "      <td>10.35</td>\n",
       "      <td>CANCELADA</td>\n",
       "      <td>Taís</td>\n",
       "      <td>Lucas</td>\n",
       "    </tr>\n",
       "    <tr>\n",
       "      <th>3</th>\n",
       "      <td>2018-12-21 09:19:16</td>\n",
       "      <td>9.31</td>\n",
       "      <td>CANCELADA</td>\n",
       "      <td>Marcelo</td>\n",
       "      <td>Regiane</td>\n",
       "    </tr>\n",
       "    <tr>\n",
       "      <th>4</th>\n",
       "      <td>2018-12-21 09:23:14</td>\n",
       "      <td>224.85</td>\n",
       "      <td>REGULAR</td>\n",
       "      <td>Thales</td>\n",
       "      <td>Rebeca</td>\n",
       "    </tr>\n",
       "    <tr>\n",
       "      <th>...</th>\n",
       "      <td>...</td>\n",
       "      <td>...</td>\n",
       "      <td>...</td>\n",
       "      <td>...</td>\n",
       "      <td>...</td>\n",
       "    </tr>\n",
       "    <tr>\n",
       "      <th>103202</th>\n",
       "      <td>2023-01-04 16:55:52</td>\n",
       "      <td>294.60</td>\n",
       "      <td>REGULAR</td>\n",
       "      <td>Thales</td>\n",
       "      <td>Victor</td>\n",
       "    </tr>\n",
       "    <tr>\n",
       "      <th>103203</th>\n",
       "      <td>2023-01-04 16:58:35</td>\n",
       "      <td>359.97</td>\n",
       "      <td>REGULAR</td>\n",
       "      <td>Amanda</td>\n",
       "      <td>Neto</td>\n",
       "    </tr>\n",
       "    <tr>\n",
       "      <th>103204</th>\n",
       "      <td>2023-01-04 17:00:39</td>\n",
       "      <td>539.96</td>\n",
       "      <td>REGULAR</td>\n",
       "      <td>João</td>\n",
       "      <td>Victor</td>\n",
       "    </tr>\n",
       "    <tr>\n",
       "      <th>103205</th>\n",
       "      <td>2023-01-04 17:01:40</td>\n",
       "      <td>179.98</td>\n",
       "      <td>REGULAR</td>\n",
       "      <td>Taís</td>\n",
       "      <td>Lucas</td>\n",
       "    </tr>\n",
       "    <tr>\n",
       "      <th>103206</th>\n",
       "      <td>2023-01-04 17:04:07</td>\n",
       "      <td>359.97</td>\n",
       "      <td>REGULAR</td>\n",
       "      <td>Marcelo</td>\n",
       "      <td>Regiane</td>\n",
       "    </tr>\n",
       "  </tbody>\n",
       "</table>\n",
       "<p>103207 rows × 5 columns</p>\n",
       "</div>"
      ],
      "text/plain": [
       "                      data  valor     status operador vendedor\n",
       "0      2018-12-21 08:28:57  10.35  CANCELADA   Amanda     Neto\n",
       "1      2018-12-21 09:16:04  10.35  CANCELADA     João   Victor\n",
       "2      2018-12-21 09:16:02  10.35  CANCELADA     Taís    Lucas\n",
       "3      2018-12-21 09:19:16   9.31  CANCELADA  Marcelo  Regiane\n",
       "4      2018-12-21 09:23:14 224.85    REGULAR   Thales   Rebeca\n",
       "...                    ...    ...        ...      ...      ...\n",
       "103202 2023-01-04 16:55:52 294.60    REGULAR   Thales   Victor\n",
       "103203 2023-01-04 16:58:35 359.97    REGULAR   Amanda     Neto\n",
       "103204 2023-01-04 17:00:39 539.96    REGULAR     João   Victor\n",
       "103205 2023-01-04 17:01:40 179.98    REGULAR     Taís    Lucas\n",
       "103206 2023-01-04 17:04:07 359.97    REGULAR  Marcelo  Regiane\n",
       "\n",
       "[103207 rows x 5 columns]"
      ]
     },
     "execution_count": 25,
     "metadata": {},
     "output_type": "execute_result"
    }
   ],
   "source": [
    "# visualizar o DataFrame\n",
    "\n",
    "# Ajustar as opções de exibição do pandas\n",
    "pd.options.display.float_format = '{:.2f}'.format\n",
    "\n",
    "# Exibir o DataFrame completo\n",
    "df"
   ]
  },
  {
   "cell_type": "code",
   "execution_count": 26,
   "id": "2e05b495",
   "metadata": {},
   "outputs": [
    {
     "data": {
      "text/plain": [
       "(103207, 5)"
      ]
     },
     "execution_count": 26,
     "metadata": {},
     "output_type": "execute_result"
    }
   ],
   "source": [
    "# número de linhas e colunas\n",
    "df.shape"
   ]
  },
  {
   "cell_type": "code",
   "execution_count": 27,
   "id": "08618ddd",
   "metadata": {},
   "outputs": [
    {
     "data": {
      "text/plain": [
       "Index(['data', 'valor', 'status', 'operador', 'vendedor'], dtype='object')"
      ]
     },
     "execution_count": 27,
     "metadata": {},
     "output_type": "execute_result"
    }
   ],
   "source": [
    "# nome das colunas\n",
    "df.columns"
   ]
  },
  {
   "cell_type": "code",
   "execution_count": 28,
   "id": "48e3810e",
   "metadata": {},
   "outputs": [
    {
     "name": "stdout",
     "output_type": "stream",
     "text": [
      "<class 'pandas.core.frame.DataFrame'>\n",
      "RangeIndex: 103207 entries, 0 to 103206\n",
      "Data columns (total 5 columns):\n",
      " #   Column    Non-Null Count   Dtype         \n",
      "---  ------    --------------   -----         \n",
      " 0   data      103207 non-null  datetime64[ns]\n",
      " 1   valor     103207 non-null  float64       \n",
      " 2   status    103207 non-null  object        \n",
      " 3   operador  103207 non-null  object        \n",
      " 4   vendedor  103207 non-null  object        \n",
      "dtypes: datetime64[ns](1), float64(1), object(3)\n",
      "memory usage: 3.9+ MB\n"
     ]
    }
   ],
   "source": [
    "# informações gerais\n",
    "df.info()"
   ]
  },
  {
   "cell_type": "code",
   "execution_count": 29,
   "id": "fe7482f2",
   "metadata": {},
   "outputs": [
    {
     "data": {
      "text/plain": [
       "data        0\n",
       "valor       0\n",
       "status      0\n",
       "operador    0\n",
       "vendedor    0\n",
       "dtype: int64"
      ]
     },
     "execution_count": 29,
     "metadata": {},
     "output_type": "execute_result"
    }
   ],
   "source": [
    "# checagem de informações vazias\n",
    "df.isnull().sum()"
   ]
  },
  {
   "cell_type": "code",
   "execution_count": 31,
   "id": "1cd2717b",
   "metadata": {},
   "outputs": [
    {
     "data": {
      "text/html": [
       "<div>\n",
       "<style scoped>\n",
       "    .dataframe tbody tr th:only-of-type {\n",
       "        vertical-align: middle;\n",
       "    }\n",
       "\n",
       "    .dataframe tbody tr th {\n",
       "        vertical-align: top;\n",
       "    }\n",
       "\n",
       "    .dataframe thead th {\n",
       "        text-align: right;\n",
       "    }\n",
       "</style>\n",
       "<table border=\"1\" class=\"dataframe\">\n",
       "  <thead>\n",
       "    <tr style=\"text-align: right;\">\n",
       "      <th></th>\n",
       "      <th>valor</th>\n",
       "    </tr>\n",
       "  </thead>\n",
       "  <tbody>\n",
       "    <tr>\n",
       "      <th>count</th>\n",
       "      <td>103207.00</td>\n",
       "    </tr>\n",
       "    <tr>\n",
       "      <th>mean</th>\n",
       "      <td>276.49</td>\n",
       "    </tr>\n",
       "    <tr>\n",
       "      <th>std</th>\n",
       "      <td>386.53</td>\n",
       "    </tr>\n",
       "    <tr>\n",
       "      <th>min</th>\n",
       "      <td>0.00</td>\n",
       "    </tr>\n",
       "    <tr>\n",
       "      <th>25%</th>\n",
       "      <td>148.50</td>\n",
       "    </tr>\n",
       "    <tr>\n",
       "      <th>50%</th>\n",
       "      <td>224.85</td>\n",
       "    </tr>\n",
       "    <tr>\n",
       "      <th>75%</th>\n",
       "      <td>344.13</td>\n",
       "    </tr>\n",
       "    <tr>\n",
       "      <th>max</th>\n",
       "      <td>58534.23</td>\n",
       "    </tr>\n",
       "  </tbody>\n",
       "</table>\n",
       "</div>"
      ],
      "text/plain": [
       "          valor\n",
       "count 103207.00\n",
       "mean     276.49\n",
       "std      386.53\n",
       "min        0.00\n",
       "25%      148.50\n",
       "50%      224.85\n",
       "75%      344.13\n",
       "max    58534.23"
      ]
     },
     "metadata": {},
     "output_type": "display_data"
    }
   ],
   "source": [
    "# dados estatísticos\n",
    "with pd.option_context(\"float_format\", \"{:.2f}\".format):\n",
    "    display(df.describe())"
   ]
  },
  {
   "cell_type": "code",
   "execution_count": 33,
   "id": "a33cdc39",
   "metadata": {},
   "outputs": [
    {
     "data": {
      "text/plain": [
       "data        103030\n",
       "valor        11818\n",
       "status           3\n",
       "operador         5\n",
       "vendedor         6\n",
       "dtype: int64"
      ]
     },
     "execution_count": 33,
     "metadata": {},
     "output_type": "execute_result"
    }
   ],
   "source": [
    "df.nunique()"
   ]
  },
  {
   "cell_type": "code",
   "execution_count": 34,
   "id": "eace731f",
   "metadata": {},
   "outputs": [
    {
     "data": {
      "text/plain": [
       "0"
      ]
     },
     "execution_count": 34,
     "metadata": {},
     "output_type": "execute_result"
    }
   ],
   "source": [
    "df.duplicated().sum()"
   ]
  },
  {
   "cell_type": "code",
   "execution_count": null,
   "id": "55f87e17",
   "metadata": {},
   "outputs": [],
   "source": []
  }
 ],
 "metadata": {
  "kernelspec": {
   "display_name": "Python 3 (ipykernel)",
   "language": "python",
   "name": "python3"
  },
  "language_info": {
   "codemirror_mode": {
    "name": "ipython",
    "version": 3
   },
   "file_extension": ".py",
   "mimetype": "text/x-python",
   "name": "python",
   "nbconvert_exporter": "python",
   "pygments_lexer": "ipython3",
   "version": "3.9.13"
  }
 },
 "nbformat": 4,
 "nbformat_minor": 5
}

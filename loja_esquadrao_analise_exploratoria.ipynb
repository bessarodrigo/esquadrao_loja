{
 "cells": [
  {
   "cell_type": "markdown",
   "id": "57db0cc4",
   "metadata": {},
   "source": [
    "## Importação das bibliotecas"
   ]
  },
  {
   "cell_type": "code",
   "execution_count": 3,
   "id": "9655a04e",
   "metadata": {},
   "outputs": [],
   "source": [
    "import pandas as pd\n",
    "import numpy as np\n",
    "import locale\n",
    "import re\n",
    "import matplotlib.pyplot as plt\n",
    "import seaborn as sns\n",
    "import ipywidgets as widgets\n",
    "from IPython.display import display\n",
    "from scipy.stats import mode, skew, kurtosis"
   ]
  },
  {
   "cell_type": "markdown",
   "id": "3e2399d0",
   "metadata": {},
   "source": [
    "## Visualização inicial do DataFrame"
   ]
  },
  {
   "cell_type": "code",
   "execution_count": 4,
   "id": "6fd3d750",
   "metadata": {},
   "outputs": [
    {
     "ename": "FileNotFoundError",
     "evalue": "[Errno 2] No such file or directory: 'dados\\\\Export_Vendas_Sintetico.xlsx'",
     "output_type": "error",
     "traceback": [
      "\u001b[0;31m---------------------------------------------------------------------------\u001b[0m",
      "\u001b[0;31mFileNotFoundError\u001b[0m                         Traceback (most recent call last)",
      "Cell \u001b[0;32mIn[4], line 5\u001b[0m\n\u001b[1;32m      2\u001b[0m excel_file \u001b[38;5;241m=\u001b[39m \u001b[38;5;124m\"\u001b[39m\u001b[38;5;124mdados\u001b[39m\u001b[38;5;124m\\\u001b[39m\u001b[38;5;124mExport_Vendas_Sintetico.xlsx\u001b[39m\u001b[38;5;124m\"\u001b[39m\n\u001b[1;32m      4\u001b[0m \u001b[38;5;66;03m# Leitura do arquivo Excel e seleção das colunas desejadas\u001b[39;00m\n\u001b[0;32m----> 5\u001b[0m df \u001b[38;5;241m=\u001b[39m \u001b[43mpd\u001b[49m\u001b[38;5;241;43m.\u001b[39;49m\u001b[43mread_excel\u001b[49m\u001b[43m(\u001b[49m\u001b[43mexcel_file\u001b[49m\u001b[43m,\u001b[49m\u001b[43m \u001b[49m\u001b[43msheet_name\u001b[49m\u001b[38;5;241;43m=\u001b[39;49m\u001b[38;5;124;43m'\u001b[39;49m\u001b[38;5;124;43mPlanilha1\u001b[39;49m\u001b[38;5;124;43m'\u001b[39;49m\u001b[43m,\u001b[49m\u001b[43m \u001b[49m\u001b[43musecols\u001b[49m\u001b[38;5;241;43m=\u001b[39;49m\u001b[43m[\u001b[49m\u001b[38;5;124;43m'\u001b[39;49m\u001b[38;5;124;43mData\u001b[39;49m\u001b[38;5;124;43m'\u001b[39;49m\u001b[43m,\u001b[49m\u001b[43m \u001b[49m\u001b[38;5;124;43m'\u001b[39;49m\u001b[38;5;124;43mValor\u001b[39;49m\u001b[38;5;124;43m'\u001b[39;49m\u001b[43m,\u001b[49m\u001b[43m \u001b[49m\u001b[38;5;124;43m'\u001b[39;49m\u001b[38;5;124;43mStatus\u001b[39;49m\u001b[38;5;124;43m'\u001b[39;49m\u001b[43m,\u001b[49m\u001b[43m \u001b[49m\u001b[38;5;124;43m'\u001b[39;49m\u001b[38;5;124;43mOperador\u001b[39;49m\u001b[38;5;124;43m'\u001b[39;49m\u001b[43m,\u001b[49m\u001b[43m \u001b[49m\u001b[38;5;124;43m'\u001b[39;49m\u001b[38;5;124;43mVendedor\u001b[39;49m\u001b[38;5;124;43m'\u001b[39;49m\u001b[43m]\u001b[49m\u001b[43m)\u001b[49m\n\u001b[1;32m      7\u001b[0m \u001b[38;5;66;03m# Exibição o número de linhas e colunas do DataFrame\u001b[39;00m\n\u001b[1;32m      8\u001b[0m \u001b[38;5;28mprint\u001b[39m(\u001b[38;5;124m\"\u001b[39m\u001b[38;5;124mNúmero de Linhas e Colunas\u001b[39m\u001b[38;5;124m\"\u001b[39m)\n",
      "File \u001b[0;32m~/.local/lib/python3.8/site-packages/pandas/io/excel/_base.py:478\u001b[0m, in \u001b[0;36mread_excel\u001b[0;34m(io, sheet_name, header, names, index_col, usecols, dtype, engine, converters, true_values, false_values, skiprows, nrows, na_values, keep_default_na, na_filter, verbose, parse_dates, date_parser, date_format, thousands, decimal, comment, skipfooter, storage_options, dtype_backend)\u001b[0m\n\u001b[1;32m    476\u001b[0m \u001b[38;5;28;01mif\u001b[39;00m \u001b[38;5;129;01mnot\u001b[39;00m \u001b[38;5;28misinstance\u001b[39m(io, ExcelFile):\n\u001b[1;32m    477\u001b[0m     should_close \u001b[38;5;241m=\u001b[39m \u001b[38;5;28;01mTrue\u001b[39;00m\n\u001b[0;32m--> 478\u001b[0m     io \u001b[38;5;241m=\u001b[39m \u001b[43mExcelFile\u001b[49m\u001b[43m(\u001b[49m\u001b[43mio\u001b[49m\u001b[43m,\u001b[49m\u001b[43m \u001b[49m\u001b[43mstorage_options\u001b[49m\u001b[38;5;241;43m=\u001b[39;49m\u001b[43mstorage_options\u001b[49m\u001b[43m,\u001b[49m\u001b[43m \u001b[49m\u001b[43mengine\u001b[49m\u001b[38;5;241;43m=\u001b[39;49m\u001b[43mengine\u001b[49m\u001b[43m)\u001b[49m\n\u001b[1;32m    479\u001b[0m \u001b[38;5;28;01melif\u001b[39;00m engine \u001b[38;5;129;01mand\u001b[39;00m engine \u001b[38;5;241m!=\u001b[39m io\u001b[38;5;241m.\u001b[39mengine:\n\u001b[1;32m    480\u001b[0m     \u001b[38;5;28;01mraise\u001b[39;00m \u001b[38;5;167;01mValueError\u001b[39;00m(\n\u001b[1;32m    481\u001b[0m         \u001b[38;5;124m\"\u001b[39m\u001b[38;5;124mEngine should not be specified when passing \u001b[39m\u001b[38;5;124m\"\u001b[39m\n\u001b[1;32m    482\u001b[0m         \u001b[38;5;124m\"\u001b[39m\u001b[38;5;124man ExcelFile - ExcelFile already has the engine set\u001b[39m\u001b[38;5;124m\"\u001b[39m\n\u001b[1;32m    483\u001b[0m     )\n",
      "File \u001b[0;32m~/.local/lib/python3.8/site-packages/pandas/io/excel/_base.py:1496\u001b[0m, in \u001b[0;36mExcelFile.__init__\u001b[0;34m(self, path_or_buffer, engine, storage_options)\u001b[0m\n\u001b[1;32m   1494\u001b[0m     ext \u001b[38;5;241m=\u001b[39m \u001b[38;5;124m\"\u001b[39m\u001b[38;5;124mxls\u001b[39m\u001b[38;5;124m\"\u001b[39m\n\u001b[1;32m   1495\u001b[0m \u001b[38;5;28;01melse\u001b[39;00m:\n\u001b[0;32m-> 1496\u001b[0m     ext \u001b[38;5;241m=\u001b[39m \u001b[43minspect_excel_format\u001b[49m\u001b[43m(\u001b[49m\n\u001b[1;32m   1497\u001b[0m \u001b[43m        \u001b[49m\u001b[43mcontent_or_path\u001b[49m\u001b[38;5;241;43m=\u001b[39;49m\u001b[43mpath_or_buffer\u001b[49m\u001b[43m,\u001b[49m\u001b[43m \u001b[49m\u001b[43mstorage_options\u001b[49m\u001b[38;5;241;43m=\u001b[39;49m\u001b[43mstorage_options\u001b[49m\n\u001b[1;32m   1498\u001b[0m \u001b[43m    \u001b[49m\u001b[43m)\u001b[49m\n\u001b[1;32m   1499\u001b[0m     \u001b[38;5;28;01mif\u001b[39;00m ext \u001b[38;5;129;01mis\u001b[39;00m \u001b[38;5;28;01mNone\u001b[39;00m:\n\u001b[1;32m   1500\u001b[0m         \u001b[38;5;28;01mraise\u001b[39;00m \u001b[38;5;167;01mValueError\u001b[39;00m(\n\u001b[1;32m   1501\u001b[0m             \u001b[38;5;124m\"\u001b[39m\u001b[38;5;124mExcel file format cannot be determined, you must specify \u001b[39m\u001b[38;5;124m\"\u001b[39m\n\u001b[1;32m   1502\u001b[0m             \u001b[38;5;124m\"\u001b[39m\u001b[38;5;124man engine manually.\u001b[39m\u001b[38;5;124m\"\u001b[39m\n\u001b[1;32m   1503\u001b[0m         )\n",
      "File \u001b[0;32m~/.local/lib/python3.8/site-packages/pandas/io/excel/_base.py:1371\u001b[0m, in \u001b[0;36minspect_excel_format\u001b[0;34m(content_or_path, storage_options)\u001b[0m\n\u001b[1;32m   1368\u001b[0m \u001b[38;5;28;01mif\u001b[39;00m \u001b[38;5;28misinstance\u001b[39m(content_or_path, \u001b[38;5;28mbytes\u001b[39m):\n\u001b[1;32m   1369\u001b[0m     content_or_path \u001b[38;5;241m=\u001b[39m BytesIO(content_or_path)\n\u001b[0;32m-> 1371\u001b[0m \u001b[38;5;28;01mwith\u001b[39;00m \u001b[43mget_handle\u001b[49m\u001b[43m(\u001b[49m\n\u001b[1;32m   1372\u001b[0m \u001b[43m    \u001b[49m\u001b[43mcontent_or_path\u001b[49m\u001b[43m,\u001b[49m\u001b[43m \u001b[49m\u001b[38;5;124;43m\"\u001b[39;49m\u001b[38;5;124;43mrb\u001b[39;49m\u001b[38;5;124;43m\"\u001b[39;49m\u001b[43m,\u001b[49m\u001b[43m \u001b[49m\u001b[43mstorage_options\u001b[49m\u001b[38;5;241;43m=\u001b[39;49m\u001b[43mstorage_options\u001b[49m\u001b[43m,\u001b[49m\u001b[43m \u001b[49m\u001b[43mis_text\u001b[49m\u001b[38;5;241;43m=\u001b[39;49m\u001b[38;5;28;43;01mFalse\u001b[39;49;00m\n\u001b[1;32m   1373\u001b[0m \u001b[43m\u001b[49m\u001b[43m)\u001b[49m \u001b[38;5;28;01mas\u001b[39;00m handle:\n\u001b[1;32m   1374\u001b[0m     stream \u001b[38;5;241m=\u001b[39m handle\u001b[38;5;241m.\u001b[39mhandle\n\u001b[1;32m   1375\u001b[0m     stream\u001b[38;5;241m.\u001b[39mseek(\u001b[38;5;241m0\u001b[39m)\n",
      "File \u001b[0;32m~/.local/lib/python3.8/site-packages/pandas/io/common.py:868\u001b[0m, in \u001b[0;36mget_handle\u001b[0;34m(path_or_buf, mode, encoding, compression, memory_map, is_text, errors, storage_options)\u001b[0m\n\u001b[1;32m    859\u001b[0m         handle \u001b[38;5;241m=\u001b[39m \u001b[38;5;28mopen\u001b[39m(\n\u001b[1;32m    860\u001b[0m             handle,\n\u001b[1;32m    861\u001b[0m             ioargs\u001b[38;5;241m.\u001b[39mmode,\n\u001b[0;32m   (...)\u001b[0m\n\u001b[1;32m    864\u001b[0m             newline\u001b[38;5;241m=\u001b[39m\u001b[38;5;124m\"\u001b[39m\u001b[38;5;124m\"\u001b[39m,\n\u001b[1;32m    865\u001b[0m         )\n\u001b[1;32m    866\u001b[0m     \u001b[38;5;28;01melse\u001b[39;00m:\n\u001b[1;32m    867\u001b[0m         \u001b[38;5;66;03m# Binary mode\u001b[39;00m\n\u001b[0;32m--> 868\u001b[0m         handle \u001b[38;5;241m=\u001b[39m \u001b[38;5;28;43mopen\u001b[39;49m\u001b[43m(\u001b[49m\u001b[43mhandle\u001b[49m\u001b[43m,\u001b[49m\u001b[43m \u001b[49m\u001b[43mioargs\u001b[49m\u001b[38;5;241;43m.\u001b[39;49m\u001b[43mmode\u001b[49m\u001b[43m)\u001b[49m\n\u001b[1;32m    869\u001b[0m     handles\u001b[38;5;241m.\u001b[39mappend(handle)\n\u001b[1;32m    871\u001b[0m \u001b[38;5;66;03m# Convert BytesIO or file objects passed with an encoding\u001b[39;00m\n",
      "\u001b[0;31mFileNotFoundError\u001b[0m: [Errno 2] No such file or directory: 'dados\\\\Export_Vendas_Sintetico.xlsx'"
     ]
    }
   ],
   "source": [
    "# Caminho do arquivo Excel\n",
    "excel_file = \"dados\\Export_Vendas_Sintetico.xlsx\"\n",
    "\n",
    "# Leitura do arquivo Excel e seleção das colunas desejadas\n",
    "df = pd.read_excel(excel_file, sheet_name='Planilha1', usecols=['Data', 'Valor', 'Status', 'Operador', 'Vendedor'])\n",
    "\n",
    "# Exibição o número de linhas e colunas do DataFrame\n",
    "print(\"Número de Linhas e Colunas\")\n",
    "print(df.shape)\n",
    "print(\"------------\")\n",
    "\n",
    "# Exibir as primeiras linhas do DataFrame\n",
    "print(\"Primeiras Linhas do DataFrame\")\n",
    "print(df.head())\n",
    "print(\"------------\")\n",
    "\n",
    "# Exibir os tipos de dados ajustados\n",
    "print(\"Tipos de Dados\")\n",
    "print(df.dtypes)"
   ]
  },
  {
   "cell_type": "markdown",
   "id": "83defb54",
   "metadata": {},
   "source": [
    "## Ajuste dos dados"
   ]
  },
  {
   "cell_type": "code",
   "execution_count": null,
   "id": "67431e7f-586c-468e-9239-725e86bcf17a",
   "metadata": {},
   "outputs": [],
   "source": [
    "# Renomear as colunas\n",
    "df.rename(columns={\n",
    "    'Data': 'data',\n",
    "    'Valor': 'valor',\n",
    "    'Status': 'status',\n",
    "    'Operador': 'operador',\n",
    "    'Vendedor': 'vendedor'\n",
    "}, inplace=True)\n",
    "\n",
    "# Ajustar as variáveis da coluna status\n",
    "df['status'] = df['status'].str.capitalize()\n",
    "\n",
    "# Definir o locale para Português do Brasil (pt_BR)\n",
    "locale.setlocale(locale.LC_NUMERIC, 'pt_BR.UTF-8')\n",
    "\n",
    "# Função para converter valores\n",
    "def convert_to_float(value):\n",
    "    if isinstance(value, str):\n",
    "        value = value.replace('.', '').replace(',', '.')\n",
    "    return float(value)\n",
    "\n",
    "# Aplicar a função de conversão na coluna 'valor' para float aplicando\n",
    "df['valor'] = df['valor'].apply(convert_to_float)\n",
    "\n",
    "# Converter a coluna 'data' para Timestamp\n",
    "try:\n",
    "    df['data'] = pd.to_datetime(df['data'])\n",
    "except ValueError as e:\n",
    "    print(f\"Não foi possível converter a coluna 'data' para Timestamp: {e}\")\n",
    "\n",
    "# Truncar a coluna 'status' para 10 caracteres\n",
    "df['status'] = df['status'].apply(lambda x: x[:10])\n",
    "\n",
    "# Remover linhas onde o status é 'Cancelada' ou 'Inutilizada'\n",
    "df = df[~df['status'].isin(['Cancelada', 'Inutilizad'])]\n",
    "\n",
    "# Exibir as primeiras linhas do DataFrame após a conversão\n",
    "print(\"Primeiras Linhas do DataFrame - compras devidamente efetivadas\")\n",
    "print(df.head())\n",
    "print(\"------------\")\n",
    "\n",
    "# Exibir os tipos de dados ajustados\n",
    "print(\"Tipos de Dados\")\n",
    "print(df.dtypes)"
   ]
  },
  {
   "cell_type": "markdown",
   "id": "ff3d5a36",
   "metadata": {},
   "source": [
    "## Checagem dos Dados"
   ]
  },
  {
   "cell_type": "code",
   "execution_count": null,
   "id": "356e0df9",
   "metadata": {},
   "outputs": [],
   "source": [
    "# visualizar o DataFrame\n",
    "\n",
    "# Ajustar as opções de exibição do pandas\n",
    "pd.options.display.float_format = '{:.2f}'.format\n",
    "\n",
    "# Exibir o DataFrame completo\n",
    "df"
   ]
  },
  {
   "cell_type": "code",
   "execution_count": null,
   "id": "50b86292",
   "metadata": {},
   "outputs": [],
   "source": [
    "# Exibição o número de linhas e colunas do DataFrame\n",
    "print(\"Número de Linhas e Colunas\")\n",
    "print(f\"Número de Linhas e Colunas: {df.shape[0]} linhas, {df.shape[1]} colunas\")\n",
    "\n",
    "# Exibição os nomes das colunas do DataFrame\n",
    "print(\"\\nNomes das Colunas\")\n",
    "print(df.columns.to_list())\n",
    "\n",
    "# Exibição informações gerais sobre o DataFrame\n",
    "print(\"\\nInformações Gerais\")\n",
    "df.info()\n",
    "\n",
    "# Exibição do número de valores vazios (nulos) em cada coluna\n",
    "print(\"\\nChecagem de Valores Vazios\")\n",
    "print(df.isnull().sum())\n",
    "\n",
    "# Exibição do número de linhas duplicadas no DataFrame\n",
    "print(\"\\nNúmero de Linhas Duplicadas\")\n",
    "print(df.duplicated().sum())"
   ]
  },
  {
   "cell_type": "code",
   "execution_count": null,
   "id": "4a475e24",
   "metadata": {},
   "outputs": [],
   "source": [
    "# Exibe o número de valores únicos em cada coluna do DataFrame\n",
    "print(df.nunique())\n",
    "\n",
    "print(\"------------\")\n",
    "\n",
    "# Extrai os valores únicos da coluna 'operador' e armazena em uma variável\n",
    "operadores = df[\"operador\"].unique()\n",
    "\n",
    "# Imprime a lista de operadores únicos, formatada como uma string\n",
    "print(f\"Os operadores são: {', '.join(map(str, operadores))}\")\n",
    "\n",
    "print(\"------------\")\n",
    "\n",
    "# Extrai os valores únicos da coluna 'vendedor' e armazena em uma variável\n",
    "vendedores = df[\"vendedor\"].unique()\n",
    "\n",
    "# Imprime a lista de vendedores únicos, formatada como uma string\n",
    "print(f\"Os vendedores são: {', '.join(map(str, vendedores))}\")\n",
    "\n",
    "print(\"------------\")\n",
    "\n",
    "# Extrai os valores únicos da coluna 'status' para conferir se o df apresenta apenas as compras regulares\n",
    "status_regular = df[\"status\"].unique()\n",
    "\n",
    "# Imprime a lista de operadores únicos, formatada como uma string\n",
    "print(f\"O status é apenas: {', '.join(map(str, status_regular))}\")"
   ]
  },
  {
   "cell_type": "markdown",
   "id": "0b72a43c-09e5-4344-ab46-72e5837b639b",
   "metadata": {},
   "source": [
    "## Análise Exploratória"
   ]
  },
  {
   "cell_type": "markdown",
   "id": "b581d84d-4685-4a5b-ae17-e43e8e73b027",
   "metadata": {},
   "source": [
    "### Dados Estatísticos"
   ]
  },
  {
   "cell_type": "code",
   "execution_count": null,
   "id": "ee6444f1-ae52-4013-9b82-c1b0127109be",
   "metadata": {},
   "outputs": [],
   "source": [
    "# Exibição dos dados estatísticos das colunas numéricas com duas casas decimais\n",
    "with pd.option_context(\"float_format\", \"{:.2f}\".format):\n",
    "    display(df.describe())"
   ]
  },
  {
   "cell_type": "code",
   "execution_count": null,
   "id": "f2a0c4d2",
   "metadata": {},
   "outputs": [],
   "source": [
    "# Função para calcular as estatísticas\n",
    "def calcular_estatisticas(amostra):\n",
    "    moda_result = mode(amostra, keepdims=True)  # Garantir que a moda é retornada como array\n",
    "    estatisticas = {\n",
    "        \"Média\": np.mean(amostra),\n",
    "        \"Mediana\": np.median(amostra),\n",
    "        \"Moda\": moda_result.mode[0] if len(moda_result.mode) > 0 else np.nan,\n",
    "        \"Variância\": np.var(amostra, ddof=1),\n",
    "        \"Desvio Padrão\": np.std(amostra, ddof=1),\n",
    "        \"Assimetria\": skew(amostra),\n",
    "        \"Curtose\": kurtosis(amostra, fisher=False),  # fisher=False retorna a curtose de momento\n",
    "        \"1º Quartil\": np.percentile(amostra, 25),\n",
    "        \"2º Quartil (Mediana)\": np.percentile(amostra, 50),\n",
    "        \"3º Quartil\": np.percentile(amostra, 75)\n",
    "    }\n",
    "    return estatisticas\n",
    "\n",
    "# Aplicar a função\n",
    "estatisticas_df_valor = calcular_estatisticas(df['valor'].to_numpy())\n",
    "\n",
    "# Exibir os resultados\n",
    "print(\"Estatísticas para a coluna 'valor' do DataFrame:\")\n",
    "for chave, valor in estatisticas_df_valor.items():\n",
    "    print(f\"{chave}: {valor:.2f}\")"
   ]
  },
  {
   "cell_type": "code",
   "execution_count": null,
   "id": "bffa919e-d1ac-4593-a182-7b61addc3d9a",
   "metadata": {},
   "outputs": [],
   "source": [
    "from estatisticas import calcular_estatisticas\n",
    "\n",
    "# Aplicar a função\n",
    "estatisticas_df_valor = calcular_estatisticas(df['valor'].to_numpy())\n",
    "\n",
    "# Exibir os resultados\n",
    "print(\"Estatísticas para a coluna 'valor' do DataFrame:\")\n",
    "for chave, valor in estatisticas_df_valor.items():\n",
    "    print(f\"{chave}: {valor:.2f}\")"
   ]
  },
  {
   "cell_type": "markdown",
   "id": "337018f6-730e-4109-8fe7-1578adafec56",
   "metadata": {},
   "source": [
    "### Box Plot da coluna de valor da compra"
   ]
  },
  {
   "cell_type": "code",
   "execution_count": null,
   "id": "19737dea-3a5b-4aae-86ee-ed631e4efaf2",
   "metadata": {},
   "outputs": [],
   "source": [
    "# Configurar o estilo do gráfico\n",
    "sns.set(style=\"whitegrid\")\n",
    "\n",
    "# Criar a figura e os subplots\n",
    "plt.figure(figsize=(12, 6))\n",
    "\n",
    "# Subplot para 'valor'\n",
    "plt.subplot(1, 2, 1)\n",
    "\n",
    "# Criar o boxplot\n",
    "sns.boxplot(y=df['valor'], color='skyblue', showmeans=True)\n",
    "\n",
    "# Adicionar o título\n",
    "plt.title('Boxplot do Valor')\n",
    "\n",
    "# Calcular medidas resumo\n",
    "mean = df['valor'].mean()\n",
    "median = df['valor'].median()\n",
    "min_value = df['valor'].min()\n",
    "max_value = df['valor'].max()\n",
    "std_dev = df['valor'].std()\n",
    "\n",
    "# Adicionar linhas horizontais para média, mediana, mínimo, máximo e desvio padrão\n",
    "plt.axhline(mean, color='red', linestyle='--', label=f'Média: {mean:.2f}')\n",
    "plt.axhline(median, color='green', linestyle='--', label=f'Mediana: {median:.2f}')\n",
    "plt.axhline(min_value, color='purple', linestyle=':', label=f'Mínimo: {min_value:.2f}')\n",
    "plt.axhline(max_value, color='orange', linestyle=':', label=f'Máximo: {max_value:.2f}')\n",
    "plt.axhline(mean + std_dev, color='blue', linestyle='--', label=f'Média + Desvio Padrão: {mean + std_dev:.2f}')\n",
    "plt.axhline(mean - std_dev, color='blue', linestyle='--', label=f'Média - Desvio Padrão: {mean - std_dev:.2f}')\n",
    "\n",
    "# Adicionar a legenda\n",
    "plt.legend()\n",
    "\n",
    "# Ajustar layout e exibir o gráfico\n",
    "plt.tight_layout()\n",
    "plt.show()"
   ]
  },
  {
   "cell_type": "markdown",
   "id": "84c485e4-b30d-4aaf-b195-9f023f9dbd15",
   "metadata": {},
   "source": [
    "### Verificação das compras acima do limite superior (outliers)"
   ]
  },
  {
   "cell_type": "code",
   "execution_count": null,
   "id": "8a594f03-a2a6-4d1f-8163-acf24986cb1f",
   "metadata": {},
   "outputs": [],
   "source": [
    "# Calcular Q1 (Primeiro Quartil) e Q3 (Terceiro Quartil)\n",
    "q1 = np.percentile(df['valor'], 25)\n",
    "q3 = np.percentile(df['valor'], 75)\n",
    "\n",
    "# Calcular o Intervalo Interquartílico (IQR)\n",
    "iqr = q3 - q1\n",
    "\n",
    "# Calcular o Limite Superior\n",
    "limite_superior = q3 + 1.5 * iqr\n",
    "\n",
    "print(f\"Primeiro Quartil (Q1): {q1}\")\n",
    "print(f\"Terceiro Quartil (Q3): {q3}\")\n",
    "print(f\"Intervalo Interquartílico (IQR): {iqr}\")\n",
    "print(f\"Limite Superior: {limite_superior}\")\n",
    "\n",
    "print(\"------------\")\n",
    "\n",
    "# Filtrar os dados que estão acima do limite superior\n",
    "outlier = df[df['valor'] > limite_superior]\n",
    "\n",
    "print(\"Dados acima do limite superior:\")\n",
    "print(outlier)"
   ]
  },
  {
   "cell_type": "markdown",
   "id": "e46528c4-16fc-4443-ac6b-8a7808e6bb6d",
   "metadata": {},
   "source": [
    "### Verificação de desempenho por operador"
   ]
  },
  {
   "cell_type": "code",
   "execution_count": null,
   "id": "6f6609af-ac54-4036-801a-a7af609ff647",
   "metadata": {},
   "outputs": [],
   "source": [
    "# Calcular o desempenho total por operador\n",
    "desempenho_por_operador = df.groupby('operador')['valor'].sum().reset_index()\n",
    "\n",
    "# Criar o gráfico de barras\n",
    "plt.figure(figsize=(10, 6))  # Aumentar o tamanho da figura para dar mais espaço\n",
    "ax = sns.barplot(x='operador', y='valor', data=desempenho_por_operador, palette='viridis')\n",
    "\n",
    "# Adicionar título e rótulos dos eixos\n",
    "plt.title('Desempenho por Operador')\n",
    "plt.xlabel('Operador')\n",
    "plt.ylabel('Total de Valor')\n",
    "plt.xticks(rotation=45, ha='right')  # Ajustar a rotação e o alinhamento dos rótulos dos eixos X\n",
    "\n",
    "# Ajustar o limite do eixo y para garantir que todos os rótulos sejam visíveis\n",
    "max_valor = desempenho_por_operador['valor'].max()\n",
    "plt.ylim(0, max_valor * 1.1)  # Define o limite superior do eixo y um pouco acima do valor máximo\n",
    "\n",
    "# Adicionar rótulos de dados\n",
    "for p in ax.patches:\n",
    "    height = p.get_height()\n",
    "    ax.annotate(f'{height:,.2f}', \n",
    "                (p.get_x() + p.get_width() / 2., height), \n",
    "                ha='center', va='bottom', \n",
    "                xytext=(0, 3), \n",
    "                textcoords='offset points')\n",
    "\n",
    "# Ajustar layout e exibir o gráfico\n",
    "plt.tight_layout()\n",
    "plt.show()"
   ]
  },
  {
   "cell_type": "markdown",
   "id": "ae9e5f79-0a5c-402c-b29e-69fb05b5c049",
   "metadata": {},
   "source": [
    "### Verificação de desempenho por vendedor"
   ]
  },
  {
   "cell_type": "code",
   "execution_count": null,
   "id": "0f421fbc-7d6d-486c-abbb-93c5b00212e4",
   "metadata": {},
   "outputs": [],
   "source": [
    "# Calcular o desempenho total por vendedor\n",
    "desempenho_por_vendedor = df.groupby('vendedor')['valor'].sum().reset_index()\n",
    "\n",
    "# Criar o gráfico de barras\n",
    "plt.figure(figsize=(12, 6))  # Ajustar o tamanho da figura\n",
    "ax = sns.barplot(x='vendedor', y='valor', data=desempenho_por_vendedor, palette='viridis')\n",
    "\n",
    "# Adicionar título e rótulos dos eixos\n",
    "plt.title('Desempenho por Vendedor')\n",
    "plt.xlabel('Vendedor')\n",
    "plt.ylabel('Total de Valor')\n",
    "plt.xticks(rotation=45, ha='right')  # Ajustar a rotação e o alinhamento dos rótulos dos eixos X\n",
    "\n",
    "# Ajustar o limite do eixo y para garantir que todos os rótulos sejam visíveis\n",
    "max_valor = desempenho_por_vendedor['valor'].max()\n",
    "plt.ylim(0, max_valor * 1.1)  # Define o limite superior do eixo y um pouco acima do valor máximo\n",
    "\n",
    "# Adicionar rótulos de dados\n",
    "for p in ax.patches:\n",
    "    height = p.get_height()\n",
    "    ax.annotate(f'{height:,.2f}', \n",
    "                (p.get_x() + p.get_width() / 2., height), \n",
    "                ha='center', va='bottom', \n",
    "                xytext=(0, 3), \n",
    "                textcoords='offset points')\n",
    "\n",
    "# Ajustar layout e exibir o gráfico\n",
    "plt.tight_layout()\n",
    "plt.show()"
   ]
  }
 ],
 "metadata": {
  "kernelspec": {
   "display_name": "Python 3 (ipykernel)",
   "language": "python",
   "name": "python3"
  },
  "language_info": {
   "codemirror_mode": {
    "name": "ipython",
    "version": 3
   },
   "file_extension": ".py",
   "mimetype": "text/x-python",
   "name": "python",
   "nbconvert_exporter": "python",
   "pygments_lexer": "ipython3",
   "version": "3.8.10"
  }
 },
 "nbformat": 4,
 "nbformat_minor": 5
}

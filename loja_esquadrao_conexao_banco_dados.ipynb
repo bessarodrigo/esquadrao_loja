{
 "cells": [
  {
   "cell_type": "markdown",
   "id": "73b252d5-776b-4f43-9ecb-23f6674f849d",
   "metadata": {},
   "source": [
    "## Importação das bibliotecas"
   ]
  },
  {
   "cell_type": "code",
   "execution_count": 1,
   "id": "12b85aa3",
   "metadata": {},
   "outputs": [],
   "source": [
    "# Importar as bibliotecas\n",
    "\n",
    "import pandas as pd\n",
    "from sqlalchemy import create_engine\n",
    "from sqlalchemy.exc import OperationalError\n",
    "import locale\n",
    "import re\n",
    "import os\n",
    "from dotenv import load_dotenv"
   ]
  },
  {
   "cell_type": "markdown",
   "id": "1bbda2fd",
   "metadata": {},
   "source": [
    "## Carregas as Variáveis de Ambiente"
   ]
  },
  {
   "cell_type": "code",
   "execution_count": 2,
   "id": "e1c74a44",
   "metadata": {},
   "outputs": [],
   "source": [
    "# Carregar variáveis do arquivo .env\n",
    "load_dotenv()\n",
    "\n",
    "# Obter as credenciais do banco de dados do .env\n",
    "db_host = os.getenv(\"DB_HOST\")\n",
    "db_port = os.getenv(\"DB_PORT\")\n",
    "db_name = os.getenv(\"DB_NAME\")\n",
    "db_user = os.getenv(\"DB_USER\")\n",
    "db_password = os.getenv(\"DB_PASSWORD\")"
   ]
  },
  {
   "cell_type": "code",
   "execution_count": 3,
   "id": "73f676f5",
   "metadata": {},
   "outputs": [
    {
     "name": "stdout",
     "output_type": "stream",
     "text": [
      "DB Host: localhost\n",
      "DB Port: 5432\n",
      "DB Name: esquadrao\n",
      "DB User: postgres\n"
     ]
    }
   ],
   "source": [
    "# Verifique se as variáveis foram carregadas corretamente\n",
    "print(f\"DB Host: {db_host}\")\n",
    "print(f\"DB Port: {db_port}\")\n",
    "print(f\"DB Name: {db_name}\")\n",
    "print(f\"DB User: {db_user}\")"
   ]
  },
  {
   "cell_type": "markdown",
   "id": "1f56e19b-cf23-4593-8273-5db8c24b9012",
   "metadata": {},
   "source": [
    "## Visualização inicial do DataFrame"
   ]
  },
  {
   "cell_type": "code",
   "execution_count": 4,
   "id": "638fa512",
   "metadata": {},
   "outputs": [
    {
     "name": "stdout",
     "output_type": "stream",
     "text": [
      "Número de Linhas e Colunas\n",
      "(103207, 5)\n",
      "------------\n",
      "Primeiras Linhas do DataFrame\n",
      "                  Data    Valor     Status Operador Vendedor\n",
      "0  21/12/2018 08:28:57   10.350  CANCELADA   Amanda     Neto\n",
      "1  21/12/2018 09:16:04   10.350  CANCELADA     João   Victor\n",
      "2  21/12/2018 09:16:02   10.350  CANCELADA     Taís    Lucas\n",
      "3  21/12/2018 09:19:16    9.315  CANCELADA  Marcelo  Regiane\n",
      "4  21/12/2018 09:23:14  224.850    REGULAR   Thales   Rebeca\n",
      "------------\n",
      "Tipos de Dados\n",
      "Data         object\n",
      "Valor       float64\n",
      "Status       object\n",
      "Operador     object\n",
      "Vendedor     object\n",
      "dtype: object\n"
     ]
    }
   ],
   "source": [
    "# Caminho do arquivo Excel\n",
    "excel_file = \"dados\\Export_Vendas_Sintetico.xlsx\"\n",
    "\n",
    "# Leitura do arquivo Excel e seleção das colunas desejadas\n",
    "df = pd.read_excel(excel_file, sheet_name='Planilha1', usecols=['Data', 'Valor', 'Status', 'Operador', 'Vendedor'])\n",
    "\n",
    "# Exibição o número de linhas e colunas do DataFrame\n",
    "print(\"Número de Linhas e Colunas\")\n",
    "print(df.shape)\n",
    "print(\"------------\")\n",
    "\n",
    "# Exibir as primeiras linhas do DataFrame\n",
    "print(\"Primeiras Linhas do DataFrame\")\n",
    "print(df.head())\n",
    "print(\"------------\")\n",
    "\n",
    "# Exibir os tipos de dados ajustados\n",
    "print(\"Tipos de Dados\")\n",
    "print(df.dtypes)"
   ]
  },
  {
   "cell_type": "markdown",
   "id": "f916e191-62ad-474e-a4f0-a2e78079bebe",
   "metadata": {},
   "source": [
    "## Ajuste dos dados"
   ]
  },
  {
   "cell_type": "code",
   "execution_count": null,
   "id": "7d964e20-9011-4484-9396-580db05ff2e8",
   "metadata": {},
   "outputs": [],
   "source": [
    "# Renomear as colunas\n",
    "df.rename(columns={\n",
    "    'Data': 'data',\n",
    "    'Valor': 'valor',\n",
    "    'Status': 'status',\n",
    "    'Operador': 'operador',\n",
    "    'Vendedor': 'vendedor'\n",
    "}, inplace=True)\n",
    "\n",
    "# Ajustar as variáveis da coluna status\n",
    "df['status'] = df['status'].str.capitalize()\n",
    "\n",
    "# Definir o locale para Português do Brasil (pt_BR)\n",
    "locale.setlocale(locale.LC_NUMERIC, 'pt_BR.UTF-8')\n",
    "\n",
    "# Função para converter valores\n",
    "def convert_to_float(value):\n",
    "    if isinstance(value, str):\n",
    "        value = value.replace('.', '').replace(',', '.')\n",
    "    return float(value)\n",
    "\n",
    "# Aplicar a função de conversão na coluna 'valor' para float aplicando\n",
    "df['valor'] = df['valor'].apply(convert_to_float)\n",
    "\n",
    "# Converter a coluna 'data' para Timestamp\n",
    "try:\n",
    "    df['data'] = pd.to_datetime(df['data'])\n",
    "except ValueError as e:\n",
    "    print(f\"Não foi possível converter a coluna 'data' para Timestamp: {e}\")\n",
    "\n",
    "# Truncar a coluna 'status' para 10 caracteres\n",
    "df['status'] = df['status'].apply(lambda x: x[:10])\n",
    "\n",
    "# Remover linhas onde o status é 'Cancelada' ou 'Inutilizada'\n",
    "df = df[~df['status'].isin(['Cancelada', 'Inutilizad'])]\n",
    "\n",
    "# Exibir as primeiras linhas do DataFrame após a conversão\n",
    "print(\"Primeiras Linhas do DataFrame - compras devidamente efetivadas\")\n",
    "print(df.head())\n",
    "print(\"------------\")\n",
    "\n",
    "# Exibir os tipos de dados ajustados\n",
    "print(\"Tipos de Dados\")\n",
    "print(df.dtypes)"
   ]
  },
  {
   "cell_type": "markdown",
   "id": "82838fc0-ee27-4f65-8314-db6dc25a2f61",
   "metadata": {},
   "source": [
    "## Conexão com o Banco de Dados"
   ]
  },
  {
   "cell_type": "code",
   "execution_count": null,
   "id": "1a790715",
   "metadata": {},
   "outputs": [],
   "source": [
    "# Criar a tabela no banco de dados e inserir os dados\n",
    "try:\n",
    "    # Definir a string de conexão com o banco de dados PostgreSQL\n",
    "    postgres_str = f'postgresql://{db_user}:{db_password}@{db_host}:{db_port}/{db_name}'\n",
    "    engine = create_engine(postgres_str)\n",
    "\n",
    "    with engine.connect() as connection:\n",
    "        print(\"Conexão com o banco de dados estabelecida com sucesso!\")\n",
    "\n",
    "        # Nome do esquema e da tabela no banco de dados\n",
    "        schema_name = 'esquadrao'\n",
    "        table_name = 'tbl_loja'\n",
    "\n",
    "        # Criar a tabela no banco de dados\n",
    "        create_table_query = f\"\"\"\n",
    "        CREATE TABLE IF NOT EXISTS {schema_name}.{table_name} (\n",
    "            data DATE,\n",
    "            valor FLOAT,\n",
    "            status VARCHAR(10),\n",
    "            operador VARCHAR(255),\n",
    "            vendedor VARCHAR(255)\n",
    "        );\n",
    "        \"\"\"\n",
    "        connection.execute(create_table_query)\n",
    "        print(f\"Tabela {schema_name}.{table_name} criada com sucesso!\")\n",
    "\n",
    "        # Limpar a tabela no banco de dados\n",
    "        clear_table_query = f\"TRUNCATE TABLE {schema_name}.{table_name};\"\n",
    "        connection.execute(clear_table_query)\n",
    "        print(f\"Tabela {schema_name}.{table_name} limpa com sucesso!\")\n",
    "\n",
    "        # Inserir os dados no banco de dados\n",
    "        df.to_sql(table_name, engine, schema=schema_name, if_exists='replace', index=False)\n",
    "        print(\"Dados inseridos no banco de dados com sucesso!\")\n",
    "\n",
    "except OperationalError as oe:\n",
    "    print(f\"Erro de conexão com o banco de dados: {oe}\")\n",
    "except Exception as e:\n",
    "    print(f\"Erro ao criar a tabela ou inserir dados no banco de dados: {e}\")"
   ]
  }
 ],
 "metadata": {
  "kernelspec": {
   "display_name": "Python 3 (ipykernel)",
   "language": "python",
   "name": "python3"
  },
  "language_info": {
   "codemirror_mode": {
    "name": "ipython",
    "version": 3
   },
   "file_extension": ".py",
   "mimetype": "text/x-python",
   "name": "python",
   "nbconvert_exporter": "python",
   "pygments_lexer": "ipython3",
   "version": "3.9.13"
  }
 },
 "nbformat": 4,
 "nbformat_minor": 5
}

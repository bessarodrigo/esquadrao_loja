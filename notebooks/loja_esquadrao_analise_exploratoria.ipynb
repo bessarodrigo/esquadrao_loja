{
 "cells": [
  {
   "cell_type": "markdown",
   "id": "57db0cc4",
   "metadata": {},
   "source": [
    "## Importação das bibliotecas"
   ]
  },
  {
   "cell_type": "code",
   "execution_count": 1,
   "id": "9655a04e",
   "metadata": {},
   "outputs": [],
   "source": [
    "import pandas as pd\n",
    "import numpy as np\n",
    "import locale\n",
    "import re\n",
    "import matplotlib.pyplot as plt\n",
    "import seaborn as sns\n",
    "import ipywidgets as widgets\n",
    "from IPython.display import display\n",
    "from scipy.stats import mode, skew, kurtosis\n",
    "from dotenv import load_dotenv\n",
    "import sys\n",
    "import os"
   ]
  },
  {
   "cell_type": "markdown",
   "id": "10c620c7",
   "metadata": {},
   "source": [
    "## Variável de Ambiente"
   ]
  },
  {
   "cell_type": "code",
   "execution_count": 2,
   "id": "dd595b22",
   "metadata": {},
   "outputs": [
    {
     "name": "stdout",
     "output_type": "stream",
     "text": [
      "Arquivo não encontrado!\n"
     ]
    }
   ],
   "source": [
    "# Carregar as variáveis do arquivo .env\n",
    "load_dotenv()\n",
    "\n",
    "# Obter o caminho do arquivo do .env\n",
    "excel_file = os.getenv(\"EXCEL_FILE_PATH\")\n",
    "\n",
    "# Testar o caminho\n",
    "if os.path.exists(excel_file):\n",
    "    print(\"Arquivo encontrado!\")\n",
    "else:\n",
    "    print(\"Arquivo não encontrado!\")"
   ]
  },
  {
   "cell_type": "markdown",
   "id": "3e2399d0",
   "metadata": {},
   "source": [
    "## Visualização inicial do DataFrame"
   ]
  },
  {
   "cell_type": "code",
   "execution_count": 3,
   "id": "6fd3d750",
   "metadata": {},
   "outputs": [
    {
     "ename": "OSError",
     "evalue": "[Errno 22] Invalid argument: 'r\"C:\\\\Users\\\\rodri\\\\OneDrive\\\\Sincronização\\\\Documentos\\\\GitHub\\\\esquadrao_loja\\\\dados\\\\Export_Vendas_Sintetico.xlsx\"'",
     "output_type": "error",
     "traceback": [
      "\u001b[1;31m---------------------------------------------------------------------------\u001b[0m",
      "\u001b[1;31mOSError\u001b[0m                                   Traceback (most recent call last)",
      "\u001b[1;32m~\\AppData\\Local\\Temp\\ipykernel_10044\\216461536.py\u001b[0m in \u001b[0;36m<module>\u001b[1;34m\u001b[0m\n\u001b[0;32m      1\u001b[0m \u001b[1;31m# Leitura do arquivo Excel e seleção das colunas desejadas\u001b[0m\u001b[1;33m\u001b[0m\u001b[1;33m\u001b[0m\u001b[0m\n\u001b[1;32m----> 2\u001b[1;33m \u001b[0mdf\u001b[0m \u001b[1;33m=\u001b[0m \u001b[0mpd\u001b[0m\u001b[1;33m.\u001b[0m\u001b[0mread_excel\u001b[0m\u001b[1;33m(\u001b[0m\u001b[0mexcel_file\u001b[0m\u001b[1;33m,\u001b[0m \u001b[0msheet_name\u001b[0m\u001b[1;33m=\u001b[0m\u001b[1;34m'Planilha1'\u001b[0m\u001b[1;33m,\u001b[0m \u001b[0musecols\u001b[0m\u001b[1;33m=\u001b[0m\u001b[1;33m[\u001b[0m\u001b[1;34m'Data'\u001b[0m\u001b[1;33m,\u001b[0m \u001b[1;34m'Valor'\u001b[0m\u001b[1;33m,\u001b[0m \u001b[1;34m'Status'\u001b[0m\u001b[1;33m,\u001b[0m \u001b[1;34m'Operador'\u001b[0m\u001b[1;33m,\u001b[0m \u001b[1;34m'Vendedor'\u001b[0m\u001b[1;33m]\u001b[0m\u001b[1;33m)\u001b[0m\u001b[1;33m\u001b[0m\u001b[1;33m\u001b[0m\u001b[0m\n\u001b[0m\u001b[0;32m      3\u001b[0m \u001b[1;33m\u001b[0m\u001b[0m\n\u001b[0;32m      4\u001b[0m \u001b[1;31m# Exibição o número de linhas e colunas do DataFrame\u001b[0m\u001b[1;33m\u001b[0m\u001b[1;33m\u001b[0m\u001b[0m\n\u001b[0;32m      5\u001b[0m \u001b[0mprint\u001b[0m\u001b[1;33m(\u001b[0m\u001b[1;34m\"Número de Linhas e Colunas\"\u001b[0m\u001b[1;33m)\u001b[0m\u001b[1;33m\u001b[0m\u001b[1;33m\u001b[0m\u001b[0m\n",
      "\u001b[1;32mC:\\Anaconda\\lib\\site-packages\\pandas\\util\\_decorators.py\u001b[0m in \u001b[0;36mwrapper\u001b[1;34m(*args, **kwargs)\u001b[0m\n\u001b[0;32m    309\u001b[0m                     \u001b[0mstacklevel\u001b[0m\u001b[1;33m=\u001b[0m\u001b[0mstacklevel\u001b[0m\u001b[1;33m,\u001b[0m\u001b[1;33m\u001b[0m\u001b[1;33m\u001b[0m\u001b[0m\n\u001b[0;32m    310\u001b[0m                 )\n\u001b[1;32m--> 311\u001b[1;33m             \u001b[1;32mreturn\u001b[0m \u001b[0mfunc\u001b[0m\u001b[1;33m(\u001b[0m\u001b[1;33m*\u001b[0m\u001b[0margs\u001b[0m\u001b[1;33m,\u001b[0m \u001b[1;33m**\u001b[0m\u001b[0mkwargs\u001b[0m\u001b[1;33m)\u001b[0m\u001b[1;33m\u001b[0m\u001b[1;33m\u001b[0m\u001b[0m\n\u001b[0m\u001b[0;32m    312\u001b[0m \u001b[1;33m\u001b[0m\u001b[0m\n\u001b[0;32m    313\u001b[0m         \u001b[1;32mreturn\u001b[0m \u001b[0mwrapper\u001b[0m\u001b[1;33m\u001b[0m\u001b[1;33m\u001b[0m\u001b[0m\n",
      "\u001b[1;32mC:\\Anaconda\\lib\\site-packages\\pandas\\io\\excel\\_base.py\u001b[0m in \u001b[0;36mread_excel\u001b[1;34m(io, sheet_name, header, names, index_col, usecols, squeeze, dtype, engine, converters, true_values, false_values, skiprows, nrows, na_values, keep_default_na, na_filter, verbose, parse_dates, date_parser, thousands, decimal, comment, skipfooter, convert_float, mangle_dupe_cols, storage_options)\u001b[0m\n\u001b[0;32m    455\u001b[0m     \u001b[1;32mif\u001b[0m \u001b[1;32mnot\u001b[0m \u001b[0misinstance\u001b[0m\u001b[1;33m(\u001b[0m\u001b[0mio\u001b[0m\u001b[1;33m,\u001b[0m \u001b[0mExcelFile\u001b[0m\u001b[1;33m)\u001b[0m\u001b[1;33m:\u001b[0m\u001b[1;33m\u001b[0m\u001b[1;33m\u001b[0m\u001b[0m\n\u001b[0;32m    456\u001b[0m         \u001b[0mshould_close\u001b[0m \u001b[1;33m=\u001b[0m \u001b[1;32mTrue\u001b[0m\u001b[1;33m\u001b[0m\u001b[1;33m\u001b[0m\u001b[0m\n\u001b[1;32m--> 457\u001b[1;33m         \u001b[0mio\u001b[0m \u001b[1;33m=\u001b[0m \u001b[0mExcelFile\u001b[0m\u001b[1;33m(\u001b[0m\u001b[0mio\u001b[0m\u001b[1;33m,\u001b[0m \u001b[0mstorage_options\u001b[0m\u001b[1;33m=\u001b[0m\u001b[0mstorage_options\u001b[0m\u001b[1;33m,\u001b[0m \u001b[0mengine\u001b[0m\u001b[1;33m=\u001b[0m\u001b[0mengine\u001b[0m\u001b[1;33m)\u001b[0m\u001b[1;33m\u001b[0m\u001b[1;33m\u001b[0m\u001b[0m\n\u001b[0m\u001b[0;32m    458\u001b[0m     \u001b[1;32melif\u001b[0m \u001b[0mengine\u001b[0m \u001b[1;32mand\u001b[0m \u001b[0mengine\u001b[0m \u001b[1;33m!=\u001b[0m \u001b[0mio\u001b[0m\u001b[1;33m.\u001b[0m\u001b[0mengine\u001b[0m\u001b[1;33m:\u001b[0m\u001b[1;33m\u001b[0m\u001b[1;33m\u001b[0m\u001b[0m\n\u001b[0;32m    459\u001b[0m         raise ValueError(\n",
      "\u001b[1;32mC:\\Anaconda\\lib\\site-packages\\pandas\\io\\excel\\_base.py\u001b[0m in \u001b[0;36m__init__\u001b[1;34m(self, path_or_buffer, engine, storage_options)\u001b[0m\n\u001b[0;32m   1374\u001b[0m                 \u001b[0mext\u001b[0m \u001b[1;33m=\u001b[0m \u001b[1;34m\"xls\"\u001b[0m\u001b[1;33m\u001b[0m\u001b[1;33m\u001b[0m\u001b[0m\n\u001b[0;32m   1375\u001b[0m             \u001b[1;32melse\u001b[0m\u001b[1;33m:\u001b[0m\u001b[1;33m\u001b[0m\u001b[1;33m\u001b[0m\u001b[0m\n\u001b[1;32m-> 1376\u001b[1;33m                 ext = inspect_excel_format(\n\u001b[0m\u001b[0;32m   1377\u001b[0m                     \u001b[0mcontent_or_path\u001b[0m\u001b[1;33m=\u001b[0m\u001b[0mpath_or_buffer\u001b[0m\u001b[1;33m,\u001b[0m \u001b[0mstorage_options\u001b[0m\u001b[1;33m=\u001b[0m\u001b[0mstorage_options\u001b[0m\u001b[1;33m\u001b[0m\u001b[1;33m\u001b[0m\u001b[0m\n\u001b[0;32m   1378\u001b[0m                 )\n",
      "\u001b[1;32mC:\\Anaconda\\lib\\site-packages\\pandas\\io\\excel\\_base.py\u001b[0m in \u001b[0;36minspect_excel_format\u001b[1;34m(content_or_path, storage_options)\u001b[0m\n\u001b[0;32m   1248\u001b[0m         \u001b[0mcontent_or_path\u001b[0m \u001b[1;33m=\u001b[0m \u001b[0mBytesIO\u001b[0m\u001b[1;33m(\u001b[0m\u001b[0mcontent_or_path\u001b[0m\u001b[1;33m)\u001b[0m\u001b[1;33m\u001b[0m\u001b[1;33m\u001b[0m\u001b[0m\n\u001b[0;32m   1249\u001b[0m \u001b[1;33m\u001b[0m\u001b[0m\n\u001b[1;32m-> 1250\u001b[1;33m     with get_handle(\n\u001b[0m\u001b[0;32m   1251\u001b[0m         \u001b[0mcontent_or_path\u001b[0m\u001b[1;33m,\u001b[0m \u001b[1;34m\"rb\"\u001b[0m\u001b[1;33m,\u001b[0m \u001b[0mstorage_options\u001b[0m\u001b[1;33m=\u001b[0m\u001b[0mstorage_options\u001b[0m\u001b[1;33m,\u001b[0m \u001b[0mis_text\u001b[0m\u001b[1;33m=\u001b[0m\u001b[1;32mFalse\u001b[0m\u001b[1;33m\u001b[0m\u001b[1;33m\u001b[0m\u001b[0m\n\u001b[0;32m   1252\u001b[0m     ) as handle:\n",
      "\u001b[1;32mC:\\Anaconda\\lib\\site-packages\\pandas\\io\\common.py\u001b[0m in \u001b[0;36mget_handle\u001b[1;34m(path_or_buf, mode, encoding, compression, memory_map, is_text, errors, storage_options)\u001b[0m\n\u001b[0;32m    793\u001b[0m         \u001b[1;32melse\u001b[0m\u001b[1;33m:\u001b[0m\u001b[1;33m\u001b[0m\u001b[1;33m\u001b[0m\u001b[0m\n\u001b[0;32m    794\u001b[0m             \u001b[1;31m# Binary mode\u001b[0m\u001b[1;33m\u001b[0m\u001b[1;33m\u001b[0m\u001b[0m\n\u001b[1;32m--> 795\u001b[1;33m             \u001b[0mhandle\u001b[0m \u001b[1;33m=\u001b[0m \u001b[0mopen\u001b[0m\u001b[1;33m(\u001b[0m\u001b[0mhandle\u001b[0m\u001b[1;33m,\u001b[0m \u001b[0mioargs\u001b[0m\u001b[1;33m.\u001b[0m\u001b[0mmode\u001b[0m\u001b[1;33m)\u001b[0m\u001b[1;33m\u001b[0m\u001b[1;33m\u001b[0m\u001b[0m\n\u001b[0m\u001b[0;32m    796\u001b[0m         \u001b[0mhandles\u001b[0m\u001b[1;33m.\u001b[0m\u001b[0mappend\u001b[0m\u001b[1;33m(\u001b[0m\u001b[0mhandle\u001b[0m\u001b[1;33m)\u001b[0m\u001b[1;33m\u001b[0m\u001b[1;33m\u001b[0m\u001b[0m\n\u001b[0;32m    797\u001b[0m \u001b[1;33m\u001b[0m\u001b[0m\n",
      "\u001b[1;31mOSError\u001b[0m: [Errno 22] Invalid argument: 'r\"C:\\\\Users\\\\rodri\\\\OneDrive\\\\Sincronização\\\\Documentos\\\\GitHub\\\\esquadrao_loja\\\\dados\\\\Export_Vendas_Sintetico.xlsx\"'"
     ]
    }
   ],
   "source": [
    "# Leitura do arquivo Excel e seleção das colunas desejadas\n",
    "df = pd.read_excel(excel_file, sheet_name='Planilha1', usecols=['Data', 'Valor', 'Status', 'Operador', 'Vendedor'])\n",
    "\n",
    "# Exibição o número de linhas e colunas do DataFrame\n",
    "print(\"Número de Linhas e Colunas\")\n",
    "print(df.shape)\n",
    "print(\"------------\")\n",
    "\n",
    "# Exibir as primeiras linhas do DataFrame\n",
    "print(\"Primeiras Linhas do DataFrame\")\n",
    "print(df.head())\n",
    "print(\"------------\")\n",
    "\n",
    "# Exibir os tipos de dados ajustados\n",
    "print(\"Tipos de Dados\")\n",
    "print(df.dtypes)"
   ]
  },
  {
   "cell_type": "markdown",
   "id": "83defb54",
   "metadata": {},
   "source": [
    "## Ajuste dos dados"
   ]
  },
  {
   "cell_type": "code",
   "execution_count": null,
   "id": "67431e7f-586c-468e-9239-725e86bcf17a",
   "metadata": {},
   "outputs": [],
   "source": [
    "# Renomear as colunas\n",
    "df.rename(columns={\n",
    "    'Data': 'data',\n",
    "    'Valor': 'valor',\n",
    "    'Status': 'status',\n",
    "    'Operador': 'operador',\n",
    "    'Vendedor': 'vendedor'\n",
    "}, inplace=True)\n",
    "\n",
    "# Ajustar as variáveis da coluna status\n",
    "df['status'] = df['status'].str.capitalize()\n",
    "\n",
    "# Definir o locale para Português do Brasil (pt_BR)\n",
    "locale.setlocale(locale.LC_NUMERIC, 'pt_BR.UTF-8')\n",
    "\n",
    "# Função para converter valores\n",
    "def convert_to_float(value):\n",
    "    if isinstance(value, str):\n",
    "        value = value.replace('.', '').replace(',', '.')\n",
    "    return float(value)\n",
    "\n",
    "# Aplicar a função de conversão na coluna 'valor' para float aplicando\n",
    "df['valor'] = df['valor'].apply(convert_to_float)\n",
    "\n",
    "# Converter a coluna 'data' para Timestamp\n",
    "try:\n",
    "    df['data'] = pd.to_datetime(df['data'])\n",
    "except ValueError as e:\n",
    "    print(f\"Não foi possível converter a coluna 'data' para Timestamp: {e}\")\n",
    "\n",
    "# Truncar a coluna 'status' para 10 caracteres\n",
    "df['status'] = df['status'].apply(lambda x: x[:10])\n",
    "\n",
    "# Remover linhas onde o status é 'Cancelada' ou 'Inutilizada'\n",
    "df = df[~df['status'].isin(['Cancelada', 'Inutilizad'])]\n",
    "\n",
    "# Exibir as primeiras linhas do DataFrame após a conversão\n",
    "print(\"Primeiras Linhas do DataFrame - compras devidamente efetivadas\")\n",
    "print(df.head())\n",
    "print(\"------------\")\n",
    "\n",
    "# Exibir os tipos de dados ajustados\n",
    "print(\"Tipos de Dados\")\n",
    "print(df.dtypes)"
   ]
  },
  {
   "cell_type": "markdown",
   "id": "ff3d5a36",
   "metadata": {},
   "source": [
    "## Checagem dos Dados"
   ]
  },
  {
   "cell_type": "code",
   "execution_count": null,
   "id": "356e0df9",
   "metadata": {},
   "outputs": [],
   "source": [
    "# visualizar o DataFrame\n",
    "\n",
    "# Ajustar as opções de exibição do pandas\n",
    "pd.options.display.float_format = '{:.2f}'.format\n",
    "\n",
    "# Exibir o DataFrame completo\n",
    "df"
   ]
  },
  {
   "cell_type": "code",
   "execution_count": null,
   "id": "50b86292",
   "metadata": {},
   "outputs": [],
   "source": [
    "# Exibição o número de linhas e colunas do DataFrame\n",
    "print(\"Número de Linhas e Colunas\")\n",
    "print(f\"Número de Linhas e Colunas: {df.shape[0]} linhas, {df.shape[1]} colunas\")\n",
    "\n",
    "# Exibição os nomes das colunas do DataFrame\n",
    "print(\"\\nNomes das Colunas\")\n",
    "print(df.columns.to_list())\n",
    "\n",
    "# Exibição informações gerais sobre o DataFrame\n",
    "print(\"\\nInformações Gerais\")\n",
    "df.info()\n",
    "\n",
    "# Exibição do número de valores vazios (nulos) em cada coluna\n",
    "print(\"\\nChecagem de Valores Vazios\")\n",
    "print(df.isnull().sum())\n",
    "\n",
    "# Exibição do número de linhas duplicadas no DataFrame\n",
    "print(\"\\nNúmero de Linhas Duplicadas\")\n",
    "print(df.duplicated().sum())"
   ]
  },
  {
   "cell_type": "code",
   "execution_count": null,
   "id": "4a475e24",
   "metadata": {},
   "outputs": [],
   "source": [
    "# Exibe o número de valores únicos em cada coluna do DataFrame\n",
    "print(df.nunique())\n",
    "\n",
    "print(\"------------\")\n",
    "\n",
    "# Extrai os valores únicos da coluna 'operador' e armazena em uma variável\n",
    "operadores = df[\"operador\"].unique()\n",
    "\n",
    "# Imprime a lista de operadores únicos, formatada como uma string\n",
    "print(f\"Os operadores são: {', '.join(map(str, operadores))}\")\n",
    "\n",
    "print(\"------------\")\n",
    "\n",
    "# Extrai os valores únicos da coluna 'vendedor' e armazena em uma variável\n",
    "vendedores = df[\"vendedor\"].unique()\n",
    "\n",
    "# Imprime a lista de vendedores únicos, formatada como uma string\n",
    "print(f\"Os vendedores são: {', '.join(map(str, vendedores))}\")\n",
    "\n",
    "print(\"------------\")\n",
    "\n",
    "# Extrai os valores únicos da coluna 'status' para conferir se o df apresenta apenas as compras regulares\n",
    "status_regular = df[\"status\"].unique()\n",
    "\n",
    "# Imprime a lista de operadores únicos, formatada como uma string\n",
    "print(f\"O status é apenas: {', '.join(map(str, status_regular))}\")"
   ]
  },
  {
   "cell_type": "markdown",
   "id": "0b72a43c-09e5-4344-ab46-72e5837b639b",
   "metadata": {},
   "source": [
    "## Análise Exploratória"
   ]
  },
  {
   "cell_type": "markdown",
   "id": "b581d84d-4685-4a5b-ae17-e43e8e73b027",
   "metadata": {},
   "source": [
    "### Dados Estatísticos"
   ]
  },
  {
   "cell_type": "code",
   "execution_count": null,
   "id": "ee6444f1-ae52-4013-9b82-c1b0127109be",
   "metadata": {},
   "outputs": [],
   "source": [
    "# Exibição dos dados estatísticos das colunas numéricas com duas casas decimais\n",
    "with pd.option_context(\"float_format\", \"{:.2f}\".format):\n",
    "    display(df.describe())"
   ]
  },
  {
   "cell_type": "code",
   "execution_count": null,
   "id": "f2a0c4d2",
   "metadata": {},
   "outputs": [],
   "source": [
    "# Função para calcular as estatísticas\n",
    "def calcular_estatisticas(amostra):\n",
    "    moda_result = mode(amostra, keepdims=True)  # Garantir que a moda é retornada como array\n",
    "    estatisticas = {\n",
    "        \"Média\": np.mean(amostra),\n",
    "        \"Mediana\": np.median(amostra),\n",
    "        \"Moda\": moda_result.mode[0] if len(moda_result.mode) > 0 else np.nan,\n",
    "        \"Variância\": np.var(amostra, ddof=1),\n",
    "        \"Desvio Padrão\": np.std(amostra, ddof=1),\n",
    "        \"Assimetria\": skew(amostra),\n",
    "        \"Curtose\": kurtosis(amostra, fisher=False),  # fisher=False retorna a curtose de momento\n",
    "        \"1º Quartil\": np.percentile(amostra, 25),\n",
    "        \"2º Quartil (Mediana)\": np.percentile(amostra, 50),\n",
    "        \"3º Quartil\": np.percentile(amostra, 75)\n",
    "    }\n",
    "    return estatisticas\n",
    "\n",
    "# Aplicar a função\n",
    "estatisticas_df_valor = calcular_estatisticas(df['valor'].to_numpy())\n",
    "\n",
    "# Exibir os resultados\n",
    "print(\"Estatísticas para a coluna 'valor' do DataFrame:\")\n",
    "for chave, valor in estatisticas_df_valor.items():\n",
    "    print(f\"{chave}: {valor:.2f}\")"
   ]
  },
  {
   "cell_type": "code",
   "execution_count": null,
   "id": "bffa919e-d1ac-4593-a182-7b61addc3d9a",
   "metadata": {},
   "outputs": [],
   "source": [
    "# Adicionar o caminho da pasta 'modules' ao Python\n",
    "module_path = os.path.abspath(\"modules\")\n",
    "if module_path not in sys.path:\n",
    "    sys.path.append(module_path)\n",
    "\n",
    "from estatisticas import calcular_estatisticas\n",
    "\n",
    "# Aplicar a função\n",
    "estatisticas_df_valor = calcular_estatisticas(df['valor'].to_numpy())\n",
    "\n",
    "# Exibir os resultados\n",
    "print(\"Estatísticas para a coluna 'valor' do DataFrame:\")\n",
    "for chave, valor in estatisticas_df_valor.items():\n",
    "    print(f\"{chave}: {valor:.2f}\")"
   ]
  },
  {
   "cell_type": "markdown",
   "id": "337018f6-730e-4109-8fe7-1578adafec56",
   "metadata": {},
   "source": [
    "### Box Plot da coluna de valor da compra"
   ]
  },
  {
   "cell_type": "code",
   "execution_count": null,
   "id": "19737dea-3a5b-4aae-86ee-ed631e4efaf2",
   "metadata": {},
   "outputs": [],
   "source": [
    "# Configurar o estilo do gráfico\n",
    "sns.set(style=\"whitegrid\")\n",
    "\n",
    "# Criar a figura e os subplots\n",
    "plt.figure(figsize=(12, 6))\n",
    "\n",
    "# Subplot para 'valor'\n",
    "plt.subplot(1, 2, 1)\n",
    "\n",
    "# Criar o boxplot\n",
    "sns.boxplot(y=df['valor'], color='skyblue', showmeans=True)\n",
    "\n",
    "# Adicionar o título\n",
    "plt.title('Boxplot do Valor')\n",
    "\n",
    "# Calcular medidas resumo\n",
    "mean = df['valor'].mean()\n",
    "median = df['valor'].median()\n",
    "min_value = df['valor'].min()\n",
    "max_value = df['valor'].max()\n",
    "std_dev = df['valor'].std()\n",
    "\n",
    "# Adicionar linhas horizontais para média, mediana, mínimo, máximo e desvio padrão\n",
    "plt.axhline(mean, color='red', linestyle='--', label=f'Média: {mean:.2f}')\n",
    "plt.axhline(median, color='green', linestyle='--', label=f'Mediana: {median:.2f}')\n",
    "plt.axhline(min_value, color='purple', linestyle=':', label=f'Mínimo: {min_value:.2f}')\n",
    "plt.axhline(max_value, color='orange', linestyle=':', label=f'Máximo: {max_value:.2f}')\n",
    "plt.axhline(mean + std_dev, color='blue', linestyle='--', label=f'Média + Desvio Padrão: {mean + std_dev:.2f}')\n",
    "plt.axhline(mean - std_dev, color='blue', linestyle='--', label=f'Média - Desvio Padrão: {mean - std_dev:.2f}')\n",
    "\n",
    "# Adicionar a legenda\n",
    "plt.legend()\n",
    "\n",
    "# Ajustar layout e exibir o gráfico\n",
    "plt.tight_layout()\n",
    "plt.show()"
   ]
  },
  {
   "cell_type": "markdown",
   "id": "84c485e4-b30d-4aaf-b195-9f023f9dbd15",
   "metadata": {},
   "source": [
    "### Verificação das compras acima do limite superior (outliers)"
   ]
  },
  {
   "cell_type": "code",
   "execution_count": null,
   "id": "8a594f03-a2a6-4d1f-8163-acf24986cb1f",
   "metadata": {},
   "outputs": [],
   "source": [
    "# Calcular Q1 (Primeiro Quartil) e Q3 (Terceiro Quartil)\n",
    "q1 = np.percentile(df['valor'], 25)\n",
    "q3 = np.percentile(df['valor'], 75)\n",
    "\n",
    "# Calcular o Intervalo Interquartílico (IQR)\n",
    "iqr = q3 - q1\n",
    "\n",
    "# Calcular o Limite Superior\n",
    "limite_superior = q3 + 1.5 * iqr\n",
    "\n",
    "print(f\"Primeiro Quartil (Q1): {q1}\")\n",
    "print(f\"Terceiro Quartil (Q3): {q3}\")\n",
    "print(f\"Intervalo Interquartílico (IQR): {iqr}\")\n",
    "print(f\"Limite Superior: {limite_superior}\")\n",
    "\n",
    "print(\"------------\")\n",
    "\n",
    "# Filtrar os dados que estão acima do limite superior\n",
    "outlier = df[df['valor'] > limite_superior]\n",
    "\n",
    "print(\"Dados acima do limite superior:\")\n",
    "print(outlier)"
   ]
  },
  {
   "cell_type": "markdown",
   "id": "e46528c4-16fc-4443-ac6b-8a7808e6bb6d",
   "metadata": {},
   "source": [
    "### Verificação de desempenho por operador"
   ]
  },
  {
   "cell_type": "code",
   "execution_count": null,
   "id": "6f6609af-ac54-4036-801a-a7af609ff647",
   "metadata": {},
   "outputs": [],
   "source": [
    "# Calcular o desempenho total por operador\n",
    "desempenho_por_operador = df.groupby('operador')['valor'].sum().reset_index()\n",
    "\n",
    "# Criar o gráfico de barras\n",
    "plt.figure(figsize=(10, 6))  # Aumentar o tamanho da figura para dar mais espaço\n",
    "ax = sns.barplot(x='operador', y='valor', data=desempenho_por_operador, palette='viridis')\n",
    "\n",
    "# Adicionar título e rótulos dos eixos\n",
    "plt.title('Desempenho por Operador')\n",
    "plt.xlabel('Operador')\n",
    "plt.ylabel('Total de Valor')\n",
    "plt.xticks(rotation=45, ha='right')  # Ajustar a rotação e o alinhamento dos rótulos dos eixos X\n",
    "\n",
    "# Ajustar o limite do eixo y para garantir que todos os rótulos sejam visíveis\n",
    "max_valor = desempenho_por_operador['valor'].max()\n",
    "plt.ylim(0, max_valor * 1.1)  # Define o limite superior do eixo y um pouco acima do valor máximo\n",
    "\n",
    "# Adicionar rótulos de dados\n",
    "for p in ax.patches:\n",
    "    height = p.get_height()\n",
    "    ax.annotate(f'{height:,.2f}', \n",
    "                (p.get_x() + p.get_width() / 2., height), \n",
    "                ha='center', va='bottom', \n",
    "                xytext=(0, 3), \n",
    "                textcoords='offset points')\n",
    "\n",
    "# Ajustar layout e exibir o gráfico\n",
    "plt.tight_layout()\n",
    "plt.show()"
   ]
  },
  {
   "cell_type": "markdown",
   "id": "ae9e5f79-0a5c-402c-b29e-69fb05b5c049",
   "metadata": {},
   "source": [
    "### Verificação de desempenho por vendedor"
   ]
  },
  {
   "cell_type": "code",
   "execution_count": null,
   "id": "0f421fbc-7d6d-486c-abbb-93c5b00212e4",
   "metadata": {},
   "outputs": [],
   "source": [
    "# Calcular o desempenho total por vendedor\n",
    "desempenho_por_vendedor = df.groupby('vendedor')['valor'].sum().reset_index()\n",
    "\n",
    "# Criar o gráfico de barras\n",
    "plt.figure(figsize=(12, 6))  # Ajustar o tamanho da figura\n",
    "ax = sns.barplot(x='vendedor', y='valor', data=desempenho_por_vendedor, palette='viridis')\n",
    "\n",
    "# Adicionar título e rótulos dos eixos\n",
    "plt.title('Desempenho por Vendedor')\n",
    "plt.xlabel('Vendedor')\n",
    "plt.ylabel('Total de Valor')\n",
    "plt.xticks(rotation=45, ha='right')  # Ajustar a rotação e o alinhamento dos rótulos dos eixos X\n",
    "\n",
    "# Ajustar o limite do eixo y para garantir que todos os rótulos sejam visíveis\n",
    "max_valor = desempenho_por_vendedor['valor'].max()\n",
    "plt.ylim(0, max_valor * 1.1)  # Define o limite superior do eixo y um pouco acima do valor máximo\n",
    "\n",
    "# Adicionar rótulos de dados\n",
    "for p in ax.patches:\n",
    "    height = p.get_height()\n",
    "    ax.annotate(f'{height:,.2f}', \n",
    "                (p.get_x() + p.get_width() / 2., height), \n",
    "                ha='center', va='bottom', \n",
    "                xytext=(0, 3), \n",
    "                textcoords='offset points')\n",
    "\n",
    "# Ajustar layout e exibir o gráfico\n",
    "plt.tight_layout()\n",
    "plt.show()"
   ]
  }
 ],
 "metadata": {
  "kernelspec": {
   "display_name": "Python 3 (ipykernel)",
   "language": "python",
   "name": "python3"
  },
  "language_info": {
   "codemirror_mode": {
    "name": "ipython",
    "version": 3
   },
   "file_extension": ".py",
   "mimetype": "text/x-python",
   "name": "python",
   "nbconvert_exporter": "python",
   "pygments_lexer": "ipython3",
   "version": "3.9.13"
  }
 },
 "nbformat": 4,
 "nbformat_minor": 5
}
